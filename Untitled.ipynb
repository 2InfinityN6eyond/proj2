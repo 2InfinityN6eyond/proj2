{
 "cells": [
  {
   "cell_type": "code",
   "execution_count": 8,
   "id": "aabcc982-2fed-4364-8146-4472f3725d9a",
   "metadata": {},
   "outputs": [],
   "source": [
    "from pprint import pprint\n",
    "\n",
    "import sklearn.datasets\n",
    "import sklearn.metrics\n",
    "from sklearn.model_selection import train_test_split\n",
    "\n",
    "import autosklearn.classification\n",
    "\n",
    "import pandas as pd\n",
    "\n",
    "DATA_PATH = \"./data/train.csv\"\n",
    "\n",
    "raw_df = pd.read_csv(DATA_PATH)\n",
    "\n",
    "#raw_df[\"index\"] = list(range(len(raw_df)))\n",
    "\n",
    "X = raw_df.loc[:, raw_df.columns != \"label\"]\n",
    "y = raw_df[\"label\"]\n",
    "\n",
    "X_train, X_valid, y_train, y_valid = train_test_split(X, y, test_size=0.25, random_state=42)\n"
   ]
  },
  {
   "cell_type": "code",
   "execution_count": null,
   "id": "d45df975-e36f-42df-a35b-20bc549dfa9f",
   "metadata": {},
   "outputs": [],
   "source": [
    "automl = autosklearn.classification.AutoSklearnClassifier(\n",
    "    time_left_for_this_task=600,\n",
    "    per_run_time_limit=30,\n",
    "    n_jobs = 60,\n",
    "    memory_limit = 10000,\n",
    ")\n",
    "automl.fit(X_train, y_train, dataset_name=\"breast_cancer\")"
   ]
  },
  {
   "cell_type": "code",
   "execution_count": null,
   "id": "3451d802-6210-47a4-ab81-f23f8a882534",
   "metadata": {},
   "outputs": [],
   "source": [
    "pprint(automl.show_models(), indent=4)"
   ]
  },
  {
   "cell_type": "code",
   "execution_count": null,
   "id": "5732b0c1-0cec-4d35-80a2-a0ba33c077b1",
   "metadata": {},
   "outputs": [],
   "source": [
    "predictions = automl.predict(X_valid)\n",
    "print(\"Accuracy score:\", sklearn.metrics.accuracy_score(y_valid, predictions))"
   ]
  },
  {
   "cell_type": "code",
   "execution_count": null,
   "id": "fa6b1fb3-6f08-4a45-b38c-0738e7bfe300",
   "metadata": {},
   "outputs": [],
   "source": []
  },
  {
   "cell_type": "code",
   "execution_count": null,
   "id": "937676f3-c04e-45db-a48d-10d25100901d",
   "metadata": {},
   "outputs": [],
   "source": []
  }
 ],
 "metadata": {
  "kernelspec": {
   "display_name": "mm",
   "language": "python",
   "name": "mm"
  },
  "language_info": {
   "codemirror_mode": {
    "name": "ipython",
    "version": 3
   },
   "file_extension": ".py",
   "mimetype": "text/x-python",
   "name": "python",
   "nbconvert_exporter": "python",
   "pygments_lexer": "ipython3",
   "version": "3.8.15"
  }
 },
 "nbformat": 4,
 "nbformat_minor": 5
}
