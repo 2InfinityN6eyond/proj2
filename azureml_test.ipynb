{
 "cells": [
  {
   "cell_type": "code",
   "execution_count": 6,
   "id": "50e7487c",
   "metadata": {},
   "outputs": [
    {
     "ename": "UserErrorException",
     "evalue": "UserErrorException:\n\tMessage: The workspace configuration file config.json, could not be found in /DATA2/HJP/ML/PROJECT_2 or its parent directories. Please check whether the workspace configuration file exists, or provide the full path to the configuration file as an argument. You can download a configuration file for your workspace, via http://ml.azure.com and clicking on the name of your workspace in the right top.\n\tInnerException None\n\tErrorResponse \n{\n    \"error\": {\n        \"code\": \"UserError\",\n        \"message\": \"The workspace configuration file config.json, could not be found in /DATA2/HJP/ML/PROJECT_2 or its parent directories. Please check whether the workspace configuration file exists, or provide the full path to the configuration file as an argument. You can download a configuration file for your workspace, via http://ml.azure.com and clicking on the name of your workspace in the right top.\"\n    }\n}",
     "output_type": "error",
     "traceback": [
      "\u001b[0;31m---------------------------------------------------------------------------\u001b[0m",
      "\u001b[0;31mUserErrorException\u001b[0m                        Traceback (most recent call last)",
      "Cell \u001b[0;32mIn[6], line 5\u001b[0m\n\u001b[1;32m      2\u001b[0m \u001b[38;5;28;01mfrom\u001b[39;00m \u001b[38;5;21;01mazureml\u001b[39;00m\u001b[38;5;21;01m.\u001b[39;00m\u001b[38;5;21;01mtrain\u001b[39;00m\u001b[38;5;21;01m.\u001b[39;00m\u001b[38;5;21;01mautoml\u001b[39;00m \u001b[38;5;28;01mimport\u001b[39;00m AutoMLConfig\n\u001b[1;32m      4\u001b[0m \u001b[38;5;66;03m# Connect to workspace\u001b[39;00m\n\u001b[0;32m----> 5\u001b[0m ws \u001b[38;5;241m=\u001b[39m \u001b[43mWorkspace\u001b[49m\u001b[38;5;241;43m.\u001b[39;49m\u001b[43mfrom_config\u001b[49m\u001b[43m(\u001b[49m\u001b[43m)\u001b[49m\n\u001b[1;32m      7\u001b[0m \u001b[38;5;66;03m# Get the LIWC dataset\u001b[39;00m\n\u001b[1;32m      8\u001b[0m dataset \u001b[38;5;241m=\u001b[39m Dataset\u001b[38;5;241m.\u001b[39mget_by_name(ws, name\u001b[38;5;241m=\u001b[39m\u001b[38;5;124m'\u001b[39m\u001b[38;5;124mLIWC\u001b[39m\u001b[38;5;124m'\u001b[39m)\n",
      "File \u001b[0;32m/opt/conda/envs/yt38/lib/python3.8/site-packages/azureml/core/workspace.py:280\u001b[0m, in \u001b[0;36mWorkspace.from_config\u001b[0;34m(path, auth, _logger, _file_name)\u001b[0m\n\u001b[1;32m    277\u001b[0m             \u001b[38;5;28;01mbreak\u001b[39;00m\n\u001b[1;32m    279\u001b[0m     \u001b[38;5;28;01mif\u001b[39;00m \u001b[38;5;129;01mnot\u001b[39;00m found_path:\n\u001b[0;32m--> 280\u001b[0m         \u001b[38;5;28;01mraise\u001b[39;00m UserErrorException(\n\u001b[1;32m    281\u001b[0m             \u001b[38;5;124m\"\u001b[39m\u001b[38;5;124mThe workspace configuration file config.json, could not be found in \u001b[39m\u001b[38;5;132;01m{}\u001b[39;00m\u001b[38;5;124m or its parent \u001b[39m\u001b[38;5;124m\"\u001b[39m\n\u001b[1;32m    282\u001b[0m             \u001b[38;5;124m\"\u001b[39m\u001b[38;5;124mdirectories. Please check whether the workspace configuration file exists, or provide \u001b[39m\u001b[38;5;124m\"\u001b[39m\n\u001b[1;32m    283\u001b[0m             \u001b[38;5;124m\"\u001b[39m\u001b[38;5;124mthe full path to the configuration file as an argument. You can download a configuration \u001b[39m\u001b[38;5;124m\"\u001b[39m\n\u001b[1;32m    284\u001b[0m             \u001b[38;5;124m\"\u001b[39m\u001b[38;5;124mfile for your workspace, via http://ml.azure.com and clicking on the name of your \u001b[39m\u001b[38;5;124m\"\u001b[39m\n\u001b[1;32m    285\u001b[0m             \u001b[38;5;124m\"\u001b[39m\u001b[38;5;124mworkspace in the right top.\u001b[39m\u001b[38;5;124m\"\u001b[39m\u001b[38;5;241m.\u001b[39mformat(\n\u001b[1;32m    286\u001b[0m                 normalized_path))\n\u001b[1;32m    288\u001b[0m subscription_id, resource_group, workspace_name \u001b[38;5;241m=\u001b[39m project_info\u001b[38;5;241m.\u001b[39mget_workspace_info(\n\u001b[1;32m    289\u001b[0m     found_path)\n\u001b[1;32m    291\u001b[0m _logger\u001b[38;5;241m.\u001b[39minfo(\u001b[38;5;124m'\u001b[39m\u001b[38;5;124mFound the config file in: \u001b[39m\u001b[38;5;132;01m%s\u001b[39;00m\u001b[38;5;124m'\u001b[39m, found_path)\n",
      "\u001b[0;31mUserErrorException\u001b[0m: UserErrorException:\n\tMessage: The workspace configuration file config.json, could not be found in /DATA2/HJP/ML/PROJECT_2 or its parent directories. Please check whether the workspace configuration file exists, or provide the full path to the configuration file as an argument. You can download a configuration file for your workspace, via http://ml.azure.com and clicking on the name of your workspace in the right top.\n\tInnerException None\n\tErrorResponse \n{\n    \"error\": {\n        \"code\": \"UserError\",\n        \"message\": \"The workspace configuration file config.json, could not be found in /DATA2/HJP/ML/PROJECT_2 or its parent directories. Please check whether the workspace configuration file exists, or provide the full path to the configuration file as an argument. You can download a configuration file for your workspace, via http://ml.azure.com and clicking on the name of your workspace in the right top.\"\n    }\n}"
     ]
    }
   ],
   "source": [
    "from azureml.core import Workspace, Dataset, Experiment\n",
    "from azureml.train.automl import AutoMLConfig\n",
    "\n",
    "# Connect to workspace\n",
    "ws = Workspace.from_config()\n",
    "\n",
    "# Get the LIWC dataset\n",
    "dataset = Dataset.get_by_name(ws, name='LIWC')\n",
    "\n",
    "# Split the dataset into train and test sets\n",
    "train_dataset, test_dataset = dataset.random_split(percentage=0.8, seed=42)\n",
    "\n",
    "# Configure AutoML settings\n",
    "automl_settings = {\n",
    "    \"task\": \"classification\",\n",
    "    \"primary_metric\": \"accuracy\",\n",
    "    \"label_column_name\": \"MBTI\",\n",
    "    \"n_cross_validations\": 5,\n",
    "    \"enable_early_stopping\": True,\n",
    "    \"experiment_timeout_hours\": 1,\n",
    "    \"max_concurrent_iterations\": 4,\n",
    "    \"max_cores_per_iteration\": -1\n",
    "}\n",
    "\n",
    "# Create AutoML config\n",
    "automl_config = AutoMLConfig(training_data=train_dataset,\n",
    "                             **automl_settings)\n",
    "\n",
    "# Create an experiment\n",
    "experiment = Experiment(ws, \"MBTI_Classification\")\n",
    "\n",
    "# Submit the experiment and run AutoML\n",
    "run = experiment.submit(automl_config, show_output=True)\n",
    "\n",
    "# Get the best model from the run\n",
    "best_run, best_model = run.get_output()\n",
    "\n",
    "# Test the best model on the test dataset\n",
    "test_df = test_dataset.to_pandas_dataframe()\n",
    "y_test = test_df.pop(\"MBTI\")\n",
    "y_pred = best_model.predict(test_df)\n",
    "\n",
    "# Print the accuracy score\n",
    "from sklearn.metrics import accuracy_score\n",
    "print(\"Accuracy:\", accuracy_score(y_test, y_pred))"
   ]
  }
 ],
 "metadata": {
  "kernelspec": {
   "display_name": "yt38",
   "language": "python",
   "name": "yt38"
  },
  "language_info": {
   "codemirror_mode": {
    "name": "ipython",
    "version": 3
   },
   "file_extension": ".py",
   "mimetype": "text/x-python",
   "name": "python",
   "nbconvert_exporter": "python",
   "pygments_lexer": "ipython3",
   "version": "3.8.0"
  }
 },
 "nbformat": 4,
 "nbformat_minor": 5
}
