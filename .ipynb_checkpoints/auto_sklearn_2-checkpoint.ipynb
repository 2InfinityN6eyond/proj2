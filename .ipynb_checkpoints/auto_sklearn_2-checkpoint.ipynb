{
 "cells": [
  {
   "cell_type": "code",
   "execution_count": null,
   "id": "5c7952d4-a732-48da-ac7b-88e2b3509941",
   "metadata": {},
   "outputs": [],
   "source": [
    "import pandas as pd\n",
    "import sklearn.model_selection\n",
    "import sklearn.metrics\n",
    "from autosklearn.experimental.askl2 import AutoSklearn2Classifier\n",
    "\n",
    "\n",
    "\n",
    "\n",
    "DATA_PATH = \"./data/train.csv\"\n",
    "\n",
    "df = pd.read_csv(DATA_PATH)\n",
    "\n",
    "train_df = df.loc[:, df.columns != \"label\"]\n",
    "\n",
    "\n",
    "\n",
    "X = train_df\n",
    "y = df[\"label\"]\n",
    "\n",
    "X_train, X_test, y_train, y_test = sklearn.model_selection.train_test_split(X, y, random_state=42)\n",
    "\n",
    "\n",
    "\n",
    "cls = AutoSklearn2Classifier(\n",
    "    seed    = 1398,\n",
    "    \n",
    "    n_jobs  = 60,\n",
    "    memory_limit = 10000,\n",
    "    \n",
    "    per_time_limit = 300,\n",
    "    time_left_for_this_task = 3600 * 2,\n",
    "    \n",
    "    include = {\n",
    "        'classifier': [\"random_forest\"],\n",
    "    },\n",
    "    exclude=None\n",
    ")\n",
    "    "
   ]
  }
 ],
 "metadata": {
  "kernelspec": {
   "display_name": "mm",
   "language": "python",
   "name": "mm"
  },
  "language_info": {
   "codemirror_mode": {
    "name": "ipython",
    "version": 3
   },
   "file_extension": ".py",
   "mimetype": "text/x-python",
   "name": "python",
   "nbconvert_exporter": "python",
   "pygments_lexer": "ipython3",
   "version": "3.8.15"
  }
 },
 "nbformat": 4,
 "nbformat_minor": 5
}
