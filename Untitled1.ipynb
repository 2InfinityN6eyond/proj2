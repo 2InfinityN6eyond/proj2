{
 "cells": [
  {
   "cell_type": "code",
   "execution_count": 1,
   "id": "c724b632",
   "metadata": {},
   "outputs": [],
   "source": [
    "import featuretools as ft\n"
   ]
  },
  {
   "cell_type": "code",
   "execution_count": 2,
   "id": "5bfee49d",
   "metadata": {},
   "outputs": [
    {
     "data": {
      "text/plain": [
       "{'customers':    customer_id zip_code           join_date   birthday\n",
       " 0            1    60091 2011-04-17 10:48:33 1994-07-18\n",
       " 1            2    13244 2012-04-15 23:31:04 1986-08-18\n",
       " 2            3    13244 2011-08-13 15:42:34 2003-11-21\n",
       " 3            4    60091 2011-04-08 20:08:14 2006-08-15\n",
       " 4            5    60091 2010-07-17 05:27:50 1984-07-28,\n",
       " 'sessions':     session_id  customer_id   device       session_start\n",
       " 0            1            2  desktop 2014-01-01 00:00:00\n",
       " 1            2            5   mobile 2014-01-01 00:17:20\n",
       " 2            3            4   mobile 2014-01-01 00:28:10\n",
       " 3            4            1   mobile 2014-01-01 00:44:25\n",
       " 4            5            4   mobile 2014-01-01 01:11:30\n",
       " 5            6            1   tablet 2014-01-01 01:23:25\n",
       " 6            7            3   tablet 2014-01-01 01:39:40\n",
       " 7            8            4   tablet 2014-01-01 01:55:55\n",
       " 8            9            1  desktop 2014-01-01 02:15:25\n",
       " 9           10            2   tablet 2014-01-01 02:31:40\n",
       " 10          11            4   mobile 2014-01-01 02:47:55\n",
       " 11          12            4  desktop 2014-01-01 03:04:10\n",
       " 12          13            4   mobile 2014-01-01 03:15:00\n",
       " 13          14            1   tablet 2014-01-01 03:28:00\n",
       " 14          15            2  desktop 2014-01-01 03:41:00\n",
       " 15          16            2  desktop 2014-01-01 03:49:40\n",
       " 16          17            2   tablet 2014-01-01 04:00:30\n",
       " 17          18            1  desktop 2014-01-01 04:14:35\n",
       " 18          19            3  desktop 2014-01-01 04:27:35\n",
       " 19          20            5  desktop 2014-01-01 04:46:00\n",
       " 20          21            4  desktop 2014-01-01 05:02:15\n",
       " 21          22            4  desktop 2014-01-01 05:21:45\n",
       " 22          23            3  desktop 2014-01-01 05:32:35\n",
       " 23          24            5   tablet 2014-01-01 05:44:30\n",
       " 24          25            3  desktop 2014-01-01 05:59:40\n",
       " 25          26            1   tablet 2014-01-01 06:17:00\n",
       " 26          27            1   mobile 2014-01-01 06:34:20\n",
       " 27          28            5   mobile 2014-01-01 06:50:35\n",
       " 28          29            1   mobile 2014-01-01 07:10:05\n",
       " 29          30            5  desktop 2014-01-01 07:27:25\n",
       " 30          31            2   mobile 2014-01-01 07:42:35\n",
       " 31          32            5   mobile 2014-01-01 08:02:05\n",
       " 32          33            2   mobile 2014-01-01 08:10:45\n",
       " 33          34            3  desktop 2014-01-01 08:24:50\n",
       " 34          35            3   mobile 2014-01-01 08:44:20,\n",
       " 'transactions':      transaction_id  session_id    transaction_time product_id  amount\n",
       " 0               298           1 2014-01-01 00:00:00          5  127.64\n",
       " 1                 2           1 2014-01-01 00:01:05          2  109.48\n",
       " 2               308           1 2014-01-01 00:02:10          3   95.06\n",
       " 3               116           1 2014-01-01 00:03:15          4   78.92\n",
       " 4               371           1 2014-01-01 00:04:20          3   31.54\n",
       " ..              ...         ...                 ...        ...     ...\n",
       " 495             112          35 2014-01-01 08:56:15          5   55.42\n",
       " 496             111          35 2014-01-01 08:57:20          3   34.87\n",
       " 497             276          35 2014-01-01 08:58:25          1   10.94\n",
       " 498             266          35 2014-01-01 08:59:30          5   19.86\n",
       " 499             203          35 2014-01-01 09:00:35          3  148.31\n",
       " \n",
       " [500 rows x 5 columns],\n",
       " 'products':   product_id brand\n",
       " 0          1     B\n",
       " 1          2     B\n",
       " 2          3     B\n",
       " 3          4     B\n",
       " 4          5     A}"
      ]
     },
     "execution_count": 2,
     "metadata": {},
     "output_type": "execute_result"
    }
   ],
   "source": [
    "data = ft.demo.load_mock_customer()\n",
    "data"
   ]
  },
  {
   "cell_type": "code",
   "execution_count": 4,
   "id": "8a2d341f",
   "metadata": {},
   "outputs": [
    {
     "data": {
      "text/plain": [
       "{'customers': (   customer_id zip_code           join_date   birthday\n",
       "  0            1    60091 2011-04-17 10:48:33 1994-07-18\n",
       "  1            2    13244 2012-04-15 23:31:04 1986-08-18\n",
       "  2            3    13244 2011-08-13 15:42:34 2003-11-21\n",
       "  3            4    60091 2011-04-08 20:08:14 2006-08-15\n",
       "  4            5    60091 2010-07-17 05:27:50 1984-07-28,\n",
       "  'customer_id'),\n",
       " 'sessions': (    session_id  customer_id   device       session_start\n",
       "  0            1            2  desktop 2014-01-01 00:00:00\n",
       "  1            2            5   mobile 2014-01-01 00:17:20\n",
       "  2            3            4   mobile 2014-01-01 00:28:10\n",
       "  3            4            1   mobile 2014-01-01 00:44:25\n",
       "  4            5            4   mobile 2014-01-01 01:11:30\n",
       "  5            6            1   tablet 2014-01-01 01:23:25\n",
       "  6            7            3   tablet 2014-01-01 01:39:40\n",
       "  7            8            4   tablet 2014-01-01 01:55:55\n",
       "  8            9            1  desktop 2014-01-01 02:15:25\n",
       "  9           10            2   tablet 2014-01-01 02:31:40\n",
       "  10          11            4   mobile 2014-01-01 02:47:55\n",
       "  11          12            4  desktop 2014-01-01 03:04:10\n",
       "  12          13            4   mobile 2014-01-01 03:15:00\n",
       "  13          14            1   tablet 2014-01-01 03:28:00\n",
       "  14          15            2  desktop 2014-01-01 03:41:00\n",
       "  15          16            2  desktop 2014-01-01 03:49:40\n",
       "  16          17            2   tablet 2014-01-01 04:00:30\n",
       "  17          18            1  desktop 2014-01-01 04:14:35\n",
       "  18          19            3  desktop 2014-01-01 04:27:35\n",
       "  19          20            5  desktop 2014-01-01 04:46:00\n",
       "  20          21            4  desktop 2014-01-01 05:02:15\n",
       "  21          22            4  desktop 2014-01-01 05:21:45\n",
       "  22          23            3  desktop 2014-01-01 05:32:35\n",
       "  23          24            5   tablet 2014-01-01 05:44:30\n",
       "  24          25            3  desktop 2014-01-01 05:59:40\n",
       "  25          26            1   tablet 2014-01-01 06:17:00\n",
       "  26          27            1   mobile 2014-01-01 06:34:20\n",
       "  27          28            5   mobile 2014-01-01 06:50:35\n",
       "  28          29            1   mobile 2014-01-01 07:10:05\n",
       "  29          30            5  desktop 2014-01-01 07:27:25\n",
       "  30          31            2   mobile 2014-01-01 07:42:35\n",
       "  31          32            5   mobile 2014-01-01 08:02:05\n",
       "  32          33            2   mobile 2014-01-01 08:10:45\n",
       "  33          34            3  desktop 2014-01-01 08:24:50\n",
       "  34          35            3   mobile 2014-01-01 08:44:20,\n",
       "  'session_id',\n",
       "  'session_start'),\n",
       " 'transactions': (     transaction_id  session_id    transaction_time product_id  amount\n",
       "  0               298           1 2014-01-01 00:00:00          5  127.64\n",
       "  1                 2           1 2014-01-01 00:01:05          2  109.48\n",
       "  2               308           1 2014-01-01 00:02:10          3   95.06\n",
       "  3               116           1 2014-01-01 00:03:15          4   78.92\n",
       "  4               371           1 2014-01-01 00:04:20          3   31.54\n",
       "  ..              ...         ...                 ...        ...     ...\n",
       "  495             112          35 2014-01-01 08:56:15          5   55.42\n",
       "  496             111          35 2014-01-01 08:57:20          3   34.87\n",
       "  497             276          35 2014-01-01 08:58:25          1   10.94\n",
       "  498             266          35 2014-01-01 08:59:30          5   19.86\n",
       "  499             203          35 2014-01-01 09:00:35          3  148.31\n",
       "  \n",
       "  [500 rows x 5 columns],\n",
       "  'transaction_id',\n",
       "  'transaction_time')}"
      ]
     },
     "execution_count": 4,
     "metadata": {},
     "output_type": "execute_result"
    }
   ],
   "source": [
    "customers_df = data[\"customers\"]\n",
    "sessions_df = data[\"sessions\"]\n",
    "transactions_df = data[\"transactions\"]\n",
    "\n",
    "dataframes = {\n",
    "    \"customers\": (customers_df, \"customer_id\"),\n",
    "    \"sessions\": (sessions_df, \"session_id\", \"session_start\"),\n",
    "    \"transactions\": (transactions_df, \"transaction_id\", \"transaction_time\"),\n",
    "}\n"
   ]
  }
 ],
 "metadata": {
  "kernelspec": {
   "display_name": "yt38",
   "language": "python",
   "name": "yt38"
  },
  "language_info": {
   "codemirror_mode": {
    "name": "ipython",
    "version": 3
   },
   "file_extension": ".py",
   "mimetype": "text/x-python",
   "name": "python",
   "nbconvert_exporter": "python",
   "pygments_lexer": "ipython3",
   "version": "3.8.0"
  }
 },
 "nbformat": 4,
 "nbformat_minor": 5
}
