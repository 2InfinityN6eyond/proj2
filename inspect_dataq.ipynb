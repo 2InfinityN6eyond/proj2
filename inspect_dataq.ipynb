{
 "cells": [
  {
   "cell_type": "code",
   "execution_count": 11,
   "id": "6e31e68d",
   "metadata": {},
   "outputs": [
    {
     "ename": "TypeError",
     "evalue": "unsupported operand type(s) for |: 'type' and 'NoneType'",
     "output_type": "error",
     "traceback": [
      "\u001b[0;31m---------------------------------------------------------------------------\u001b[0m",
      "\u001b[0;31mTypeError\u001b[0m                                 Traceback (most recent call last)",
      "Cell \u001b[0;32mIn [11], line 3\u001b[0m\n\u001b[1;32m      1\u001b[0m \u001b[38;5;28;01mimport\u001b[39;00m \u001b[38;5;21;01mpandas\u001b[39;00m \u001b[38;5;28;01mas\u001b[39;00m \u001b[38;5;21;01mpd\u001b[39;00m\n\u001b[1;32m      2\u001b[0m \u001b[38;5;28;01mfrom\u001b[39;00m \u001b[38;5;21;01msklearn\u001b[39;00m\u001b[38;5;21;01m.\u001b[39;00m\u001b[38;5;21;01mmodel_selection\u001b[39;00m \u001b[38;5;28;01mimport\u001b[39;00m train_test_split\n\u001b[0;32m----> 3\u001b[0m \u001b[38;5;28;01mfrom\u001b[39;00m \u001b[38;5;21;01mautofeat\u001b[39;00m \u001b[38;5;28;01mimport\u001b[39;00m AutoFeatClassifier\n\u001b[1;32m      5\u001b[0m TRAIN_DATA_PATH \u001b[38;5;241m=\u001b[39m \u001b[38;5;124m\"\u001b[39m\u001b[38;5;124m./data/train.csv\u001b[39m\u001b[38;5;124m\"\u001b[39m\n\u001b[1;32m      6\u001b[0m TEST_DATA_PATH  \u001b[38;5;241m=\u001b[39m \u001b[38;5;124m\"\u001b[39m\u001b[38;5;124m./data/test.csv\u001b[39m\u001b[38;5;124m\"\u001b[39m\n",
      "File \u001b[0;32m~/anaconda3/envs/mm/lib/python3.8/site-packages/autofeat/__init__.py:6\u001b[0m\n\u001b[1;32m      4\u001b[0m name \u001b[38;5;241m=\u001b[39m \u001b[38;5;124m\"\u001b[39m\u001b[38;5;124mautofeat\u001b[39m\u001b[38;5;124m\"\u001b[39m\n\u001b[1;32m      5\u001b[0m __version__ \u001b[38;5;241m=\u001b[39m \u001b[38;5;124m\"\u001b[39m\u001b[38;5;124m2.1.0\u001b[39m\u001b[38;5;124m\"\u001b[39m\n\u001b[0;32m----> 6\u001b[0m \u001b[38;5;28;01mfrom\u001b[39;00m \u001b[38;5;21;01m.\u001b[39;00m\u001b[38;5;21;01mautofeatlight\u001b[39;00m \u001b[38;5;28;01mimport\u001b[39;00m AutoFeatLight  \u001b[38;5;66;03m# noqa\u001b[39;00m\n\u001b[1;32m      7\u001b[0m \u001b[38;5;28;01mfrom\u001b[39;00m \u001b[38;5;21;01m.\u001b[39;00m\u001b[38;5;21;01mautofeat\u001b[39;00m \u001b[38;5;28;01mimport\u001b[39;00m AutoFeatModel, AutoFeatRegressor, AutoFeatClassifier  \u001b[38;5;66;03m# noqa\u001b[39;00m\n\u001b[1;32m      8\u001b[0m \u001b[38;5;28;01mfrom\u001b[39;00m \u001b[38;5;21;01m.\u001b[39;00m\u001b[38;5;21;01mfeatsel\u001b[39;00m \u001b[38;5;28;01mimport\u001b[39;00m FeatureSelector  \u001b[38;5;66;03m# noqa\u001b[39;00m\n",
      "File \u001b[0;32m~/anaconda3/envs/mm/lib/python3.8/site-packages/autofeat/autofeatlight.py:56\u001b[0m\n\u001b[1;32m     51\u001b[0m         \u001b[38;5;28mprint\u001b[39m(\u001b[38;5;28msorted\u001b[39m(useless_cols))\n\u001b[1;32m     52\u001b[0m     \u001b[38;5;28;01mreturn\u001b[39;00m [c \u001b[38;5;28;01mfor\u001b[39;00m c \u001b[38;5;129;01min\u001b[39;00m df\u001b[38;5;241m.\u001b[39mcolumns \u001b[38;5;28;01mif\u001b[39;00m c \u001b[38;5;129;01mnot\u001b[39;00m \u001b[38;5;129;01min\u001b[39;00m useless_cols]\n\u001b[1;32m     55\u001b[0m \u001b[38;5;28;01mdef\u001b[39;00m \u001b[38;5;21m_compute_additional_features\u001b[39m(\n\u001b[0;32m---> 56\u001b[0m     X: np\u001b[38;5;241m.\u001b[39mndarray, feature_names: \u001b[38;5;28;43mlist\u001b[39;49m\u001b[43m \u001b[49m\u001b[38;5;241;43m|\u001b[39;49m\u001b[43m \u001b[49m\u001b[38;5;28;43;01mNone\u001b[39;49;00m \u001b[38;5;241m=\u001b[39m \u001b[38;5;28;01mNone\u001b[39;00m, compute_ratio: \u001b[38;5;28mbool\u001b[39m \u001b[38;5;241m=\u001b[39m \u001b[38;5;28;01mTrue\u001b[39;00m, compute_product: \u001b[38;5;28mbool\u001b[39m \u001b[38;5;241m=\u001b[39m \u001b[38;5;28;01mTrue\u001b[39;00m, verbose: \u001b[38;5;28mint\u001b[39m \u001b[38;5;241m=\u001b[39m \u001b[38;5;241m0\u001b[39m\n\u001b[1;32m     57\u001b[0m ) \u001b[38;5;241m-\u001b[39m\u001b[38;5;241m>\u001b[39m Tuple[np\u001b[38;5;241m.\u001b[39mndarray, \u001b[38;5;28mlist\u001b[39m]:\n\u001b[1;32m     58\u001b[0m     \u001b[38;5;124;03m\"\"\"\u001b[39;00m\n\u001b[1;32m     59\u001b[0m \u001b[38;5;124;03m    Compute additional non-linear features from the original features (ratio or product of two features).\u001b[39;00m\n\u001b[1;32m     60\u001b[0m \n\u001b[0;32m   (...)\u001b[0m\n\u001b[1;32m     69\u001b[0m \u001b[38;5;124;03m        - list with n_additional_features names describing the newly computed features\u001b[39;00m\n\u001b[1;32m     70\u001b[0m \u001b[38;5;124;03m    \"\"\"\u001b[39;00m\n\u001b[1;32m     71\u001b[0m     \u001b[38;5;66;03m# check how many new features we will compute\u001b[39;00m\n",
      "\u001b[0;31mTypeError\u001b[0m: unsupported operand type(s) for |: 'type' and 'NoneType'"
     ]
    }
   ],
   "source": [
    "import pandas as pd\n",
    "from sklearn.model_selection import train_test_split\n",
    "from autofeat import AutoFeatClassifier\n",
    "\n",
    "TRAIN_DATA_PATH = \"./data/train.csv\"\n",
    "TEST_DATA_PATH  = \"./data/test.csv\"\n",
    "\n",
    "train_df_raw = pd.read_csv(TRAIN_DATA_PATH)\n",
    "\n",
    "X = train_df_raw.loc[:, train_df_raw.columns != \"label\"]\n",
    "y = train_df_raw[\"label\"]\n",
    "X_train, X_valid, y_train, y_valid = train_test_split(X, y, test_size=0.25, random_state=42)\n",
    "\n",
    "X_test = pd.read_csv(TEST_DATA_PATH)"
   ]
  },
  {
   "cell_type": "code",
   "execution_count": null,
   "id": "49b7a773-b0ce-4411-9c63-3dd1ee8dc5aa",
   "metadata": {},
   "outputs": [],
   "source": [
    "fgs = FeatureGradientSelector(n_features=10)\n",
    "\n",
    "fgs.fit(y_train.to_numpy(), y_train.to_numpy())\n",
    "# get improtant features\n",
    "# will return the index with important feature here.\n",
    "print(fgs.get_selected_features())"
   ]
  },
  {
   "cell_type": "code",
   "execution_count": 5,
   "id": "577244bd-b718-4ffe-a6ac-cca164e72583",
   "metadata": {},
   "outputs": [
    {
     "data": {
      "text/plain": [
       "array([[7.240e+02, 6.264e+01, 5.659e+01, ..., 2.620e+00, 0.000e+00,\n",
       "        2.831e+01],\n",
       "       [1.349e+03, 3.276e+01, 2.338e+01, ..., 4.520e+00, 1.480e+00,\n",
       "        1.231e+01],\n",
       "       [1.722e+03, 5.295e+01, 3.485e+01, ..., 3.140e+00, 2.030e+00,\n",
       "        9.290e+00],\n",
       "       ...,\n",
       "       [1.158e+03, 2.597e+01, 2.728e+01, ..., 3.450e+00, 4.300e-01,\n",
       "        1.347e+01],\n",
       "       [1.415e+03, 3.933e+01, 2.531e+01, ..., 3.110e+00, 1.410e+00,\n",
       "        1.095e+01],\n",
       "       [7.970e+02, 3.904e+01, 2.220e+01, ..., 2.760e+00, 2.500e-01,\n",
       "        2.221e+01]])"
      ]
     },
     "execution_count": 5,
     "metadata": {},
     "output_type": "execute_result"
    }
   ],
   "source": [
    "X_train.to_numpy()"
   ]
  },
  {
   "cell_type": "code",
   "execution_count": null,
   "id": "1b5ec0c2-c8ec-4eea-a6ac-27e17a569aa8",
   "metadata": {},
   "outputs": [],
   "source": []
  }
 ],
 "metadata": {
  "kernelspec": {
   "display_name": "mm",
   "language": "python",
   "name": "mm"
  },
  "language_info": {
   "codemirror_mode": {
    "name": "ipython",
    "version": 3
   },
   "file_extension": ".py",
   "mimetype": "text/x-python",
   "name": "python",
   "nbconvert_exporter": "python",
   "pygments_lexer": "ipython3",
   "version": "3.8.15"
  }
 },
 "nbformat": 4,
 "nbformat_minor": 5
}
